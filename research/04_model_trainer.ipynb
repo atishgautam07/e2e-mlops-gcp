{
 "cells": [
  {
   "cell_type": "code",
   "execution_count": 1,
   "metadata": {},
   "outputs": [
    {
     "data": {
      "text/plain": [
       "'/Users/whysocurious/Documents/MLDSAIProjects/e2e-mlops-gcp/research'"
      ]
     },
     "execution_count": 1,
     "metadata": {},
     "output_type": "execute_result"
    }
   ],
   "source": [
    "import os\n",
    "%pwd"
   ]
  },
  {
   "cell_type": "code",
   "execution_count": 2,
   "metadata": {},
   "outputs": [
    {
     "data": {
      "text/plain": [
       "'/Users/whysocurious/Documents/MLDSAIProjects/e2e-mlops-gcp'"
      ]
     },
     "execution_count": 2,
     "metadata": {},
     "output_type": "execute_result"
    }
   ],
   "source": [
    "os.chdir(\"../\")\n",
    "%pwd"
   ]
  },
  {
   "cell_type": "code",
   "execution_count": 3,
   "metadata": {},
   "outputs": [],
   "source": [
    "\n",
    "# mlflow.set_tracking_uri(\"http://127.0.0.1:5000\")\n",
    "# mlflow.set_experiment(\"random-forest-hyperopt\")\n"
   ]
  },
  {
   "cell_type": "code",
   "execution_count": 4,
   "metadata": {},
   "outputs": [],
   "source": [
    "from dataclasses import dataclass\n",
    "from pathlib import Path\n",
    "\n",
    "\n",
    "@dataclass(frozen=True)\n",
    "class ModelTrainerConfig:\n",
    "    root_dir: Path\n",
    "    num_trials: int\n",
    "    train_data_path: Path\n",
    "    test_data_path: Path\n",
    "    mlflow_uri: str"
   ]
  },
  {
   "cell_type": "code",
   "execution_count": 5,
   "metadata": {},
   "outputs": [],
   "source": [
    "from mlProject.constants import *\n",
    "from mlProject.utils.common import read_yaml, create_directories\n",
    "\n",
    "class ConfigurationManager:\n",
    "    def __init__(\n",
    "        self,\n",
    "        config_filepath = CONFIG_FILE_PATH,\n",
    "        params_filepath = PARAMS_FILE_PATH,\n",
    "        schema_filepath = SCHEMA_FILE_PATH):\n",
    "\n",
    "        self.config = read_yaml(config_filepath)\n",
    "        self.params = read_yaml(params_filepath)\n",
    "        self.schema = read_yaml(schema_filepath)\n",
    "\n",
    "        create_directories([self.config.artifacts_root])\n",
    "\n",
    "\n",
    "    def get_model_trainer_config(self) -> ModelTrainerConfig:\n",
    "        config = self.config.model_trainer\n",
    "        \n",
    "        create_directories([config.root_dir])\n",
    "\n",
    "        model_trainer_config = ModelTrainerConfig(\n",
    "            root_dir=config.root_dir,\n",
    "            num_trials=config.num_trials,\n",
    "            train_data_path = config.train_data_path,\n",
    "            test_data_path = config.test_data_path,\n",
    "            mlflow_uri = config.mlflow_uri\n",
    "            \n",
    "        )\n",
    "\n",
    "        return model_trainer_config"
   ]
  },
  {
   "cell_type": "code",
   "execution_count": 6,
   "metadata": {},
   "outputs": [],
   "source": [
    "import os\n",
    "from mlProject import logger\n",
    "import pickle\n",
    "import mlflow\n",
    "import numpy as np\n",
    "from hyperopt import STATUS_OK, Trials, fmin, hp, tpe\n",
    "from hyperopt.pyll import scope\n",
    "from sklearn.feature_extraction import DictVectorizer\n",
    "from sklearn.ensemble import RandomForestRegressor\n",
    "from sklearn.pipeline import make_pipeline\n",
    "from sklearn.metrics import mean_squared_error\n",
    "\n",
    "class ModelTrainer:\n",
    "    def __init__(self, config: ModelTrainerConfig):\n",
    "        self.config = config\n",
    "\n",
    "    \n",
    "    def load_pickle(self, filename: str):\n",
    "        with open(filename, \"rb\") as f_in:\n",
    "            return pickle.load(f_in)\n",
    "    \n",
    "    \n",
    "    def train(self):\n",
    "\n",
    "        # def run_optimization(data_path: str, num_trials: int):\n",
    "\n",
    "        X_train, y_train = self.load_pickle(os.path.join(self.config.train_data_path, \"train.pkl\"))\n",
    "        X_val, y_val = self.load_pickle(os.path.join(self.config.test_data_path, \"val.pkl\"))\n",
    "\n",
    "\n",
    "        mlflow.set_tracking_uri(self.config.mlflow_uri)\n",
    "        mlflow.set_experiment(\"random-forest-hyperopt\")\n",
    "\n",
    "        def objective(params):\n",
    "            \n",
    "            with mlflow.start_run():\n",
    "                mlflow.set_tag(\"model\", \"randomforest\")\n",
    "                mlflow.log_params(params)\n",
    "\n",
    "                pipeline = make_pipeline(\n",
    "                    DictVectorizer(),\n",
    "                    RandomForestRegressor(**params)\n",
    "                )\n",
    "                pipeline.fit(X_train, y_train)\n",
    "                y_pred = pipeline.predict(X_val)\n",
    "\n",
    "                rmse = mean_squared_error(y_val, y_pred, squared=False)\n",
    "                mlflow.log_metric(\"rmse\", rmse)\n",
    "                mlflow.sklearn.log_model(pipeline, artifact_path=\"model\")\n",
    "            return {'loss': rmse, 'status': STATUS_OK}\n",
    "\n",
    "\n",
    "        search_space = {\n",
    "            'max_depth': scope.int(hp.quniform('max_depth', 1, 20, 1)),\n",
    "            'n_estimators': scope.int(hp.quniform('n_estimators', 5, 30, 1)),\n",
    "            'min_samples_split': scope.int(hp.quniform('min_samples_split', 2, 10, 1)),\n",
    "            'min_samples_leaf': scope.int(hp.quniform('min_samples_leaf', 1, 4, 1)),\n",
    "            'random_state': 42\n",
    "        }\n",
    "\n",
    "        rstate = np.random.default_rng(42)  # for reproducible results\n",
    "        fmin(\n",
    "            fn=objective,\n",
    "            space=search_space,\n",
    "            algo=tpe.suggest,\n",
    "            max_evals=self.config.num_trials,\n",
    "            trials=Trials(),\n",
    "            rstate=rstate\n",
    "        )\n",
    "        \n",
    "        # joblib.dump(lr, os.path.join(self.config.root_dir, self.config.model_name))\n",
    "\n"
   ]
  },
  {
   "cell_type": "code",
   "execution_count": 7,
   "metadata": {},
   "outputs": [
    {
     "name": "stdout",
     "output_type": "stream",
     "text": [
      "[2024-07-05 12:44:39,673: INFO: common: yaml file: config/config.yaml loaded successfully]\n",
      "[2024-07-05 12:44:39,676: INFO: common: yaml file: params.yaml loaded successfully]\n",
      "[2024-07-05 12:44:39,677: INFO: common: yaml file: schema.yaml loaded successfully]\n",
      "[2024-07-05 12:44:39,678: INFO: common: created directory at: artifacts]\n",
      "[2024-07-05 12:44:39,678: INFO: common: created directory at: artifacts/model_trainer]\n"
     ]
    },
    {
     "name": "stderr",
     "output_type": "stream",
     "text": [
      "2024/07/05 12:44:41 INFO mlflow.tracking.fluent: Experiment with name 'random-forest-hyperopt' does not exist. Creating a new experiment.\n"
     ]
    },
    {
     "name": "stdout",
     "output_type": "stream",
     "text": [
      "  0%|          | 0/5 [00:00<?, ?trial/s, best loss=?][2024-07-05 12:44:42,042: INFO: tpe: build_posterior_wrapper took 0.001980 seconds]\n",
      "[2024-07-05 12:44:42,044: INFO: tpe: TPE using 0 trials]\n"
     ]
    },
    {
     "name": "stderr",
     "output_type": "stream",
     "text": [
      "/Users/whysocurious/.local/share/virtualenvs/e2e-mlops-gcp-OPqJYq4S/lib/python3.9/site-packages/sklearn/metrics/_regression.py:492: FutureWarning: 'squared' is deprecated in version 1.4 and will be removed in 1.6. To calculate the root mean squared error, use the function'root_mean_squared_error'.\n",
      "  warnings.warn(\n",
      "\n"
     ]
    },
    {
     "name": "stdout",
     "output_type": "stream",
     "text": [
      " 20%|██        | 1/5 [04:37<18:28, 277.21s/trial, best loss: 5.081163597340483][2024-07-05 12:49:19,252: INFO: tpe: build_posterior_wrapper took 0.001757 seconds]\n",
      "[2024-07-05 12:49:19,253: INFO: tpe: TPE using 1/1 trials with best loss 5.081164]\n"
     ]
    },
    {
     "name": "stderr",
     "output_type": "stream",
     "text": [
      "/Users/whysocurious/.local/share/virtualenvs/e2e-mlops-gcp-OPqJYq4S/lib/python3.9/site-packages/sklearn/metrics/_regression.py:492: FutureWarning: 'squared' is deprecated in version 1.4 and will be removed in 1.6. To calculate the root mean squared error, use the function'root_mean_squared_error'.\n",
      "  warnings.warn(\n",
      "\n"
     ]
    },
    {
     "name": "stdout",
     "output_type": "stream",
     "text": [
      " 40%|████      | 2/5 [05:04<06:30, 130.03s/trial, best loss: 5.081163597340483][2024-07-05 12:49:46,253: INFO: tpe: build_posterior_wrapper took 0.001174 seconds]\n",
      "[2024-07-05 12:49:46,254: INFO: tpe: TPE using 2/2 trials with best loss 5.081164]\n"
     ]
    },
    {
     "name": "stderr",
     "output_type": "stream",
     "text": [
      "/Users/whysocurious/.local/share/virtualenvs/e2e-mlops-gcp-OPqJYq4S/lib/python3.9/site-packages/_distutils_hack/__init__.py:11: UserWarning: Distutils was imported before Setuptools, but importing Setuptools also replaces the `distutils` module in `sys.modules`. This may lead to undesirable behaviors or errors. To avoid these issues, avoid using distutils directly, ensure that setuptools is installed in the traditional way (e.g. not an editable install), and/or make sure that setuptools is always imported before distutils.\n",
      "  warnings.warn(\n",
      "\n",
      "/Users/whysocurious/.local/share/virtualenvs/e2e-mlops-gcp-OPqJYq4S/lib/python3.9/site-packages/_distutils_hack/__init__.py:26: UserWarning: Setuptools is replacing distutils.\n",
      "  warnings.warn(\"Setuptools is replacing distutils.\")\n",
      "\n",
      "/Users/whysocurious/.local/share/virtualenvs/e2e-mlops-gcp-OPqJYq4S/lib/python3.9/site-packages/sklearn/metrics/_regression.py:492: FutureWarning: 'squared' is deprecated in version 1.4 and will be removed in 1.6. To calculate the root mean squared error, use the function'root_mean_squared_error'.\n",
      "  warnings.warn(\n",
      "\n"
     ]
    },
    {
     "name": "stdout",
     "output_type": "stream",
     "text": [
      " 60%|██████    | 3/5 [05:34<02:49, 84.53s/trial, best loss: 5.081163597340483] [2024-07-05 12:50:16,648: INFO: tpe: build_posterior_wrapper took 0.001235 seconds]\n",
      "[2024-07-05 12:50:16,649: INFO: tpe: TPE using 3/3 trials with best loss 5.081164]\n"
     ]
    },
    {
     "name": "stderr",
     "output_type": "stream",
     "text": [
      "/Users/whysocurious/.local/share/virtualenvs/e2e-mlops-gcp-OPqJYq4S/lib/python3.9/site-packages/_distutils_hack/__init__.py:11: UserWarning: Distutils was imported before Setuptools, but importing Setuptools also replaces the `distutils` module in `sys.modules`. This may lead to undesirable behaviors or errors. To avoid these issues, avoid using distutils directly, ensure that setuptools is installed in the traditional way (e.g. not an editable install), and/or make sure that setuptools is always imported before distutils.\n",
      "  warnings.warn(\n",
      "\n",
      "/Users/whysocurious/.local/share/virtualenvs/e2e-mlops-gcp-OPqJYq4S/lib/python3.9/site-packages/_distutils_hack/__init__.py:26: UserWarning: Setuptools is replacing distutils.\n",
      "  warnings.warn(\"Setuptools is replacing distutils.\")\n",
      "\n",
      "/Users/whysocurious/.local/share/virtualenvs/e2e-mlops-gcp-OPqJYq4S/lib/python3.9/site-packages/sklearn/metrics/_regression.py:492: FutureWarning: 'squared' is deprecated in version 1.4 and will be removed in 1.6. To calculate the root mean squared error, use the function'root_mean_squared_error'.\n",
      "  warnings.warn(\n",
      "\n"
     ]
    },
    {
     "name": "stdout",
     "output_type": "stream",
     "text": [
      " 80%|████████  | 4/5 [08:43<02:05, 125.91s/trial, best loss: 5.073795325986875][2024-07-05 12:53:25,976: INFO: tpe: build_posterior_wrapper took 0.001225 seconds]\n",
      "[2024-07-05 12:53:25,977: INFO: tpe: TPE using 4/4 trials with best loss 5.073795]\n"
     ]
    },
    {
     "name": "stderr",
     "output_type": "stream",
     "text": [
      "/Users/whysocurious/.local/share/virtualenvs/e2e-mlops-gcp-OPqJYq4S/lib/python3.9/site-packages/_distutils_hack/__init__.py:11: UserWarning: Distutils was imported before Setuptools, but importing Setuptools also replaces the `distutils` module in `sys.modules`. This may lead to undesirable behaviors or errors. To avoid these issues, avoid using distutils directly, ensure that setuptools is installed in the traditional way (e.g. not an editable install), and/or make sure that setuptools is always imported before distutils.\n",
      "  warnings.warn(\n",
      "\n",
      "/Users/whysocurious/.local/share/virtualenvs/e2e-mlops-gcp-OPqJYq4S/lib/python3.9/site-packages/_distutils_hack/__init__.py:26: UserWarning: Setuptools is replacing distutils.\n",
      "  warnings.warn(\"Setuptools is replacing distutils.\")\n",
      "\n",
      "/Users/whysocurious/.local/share/virtualenvs/e2e-mlops-gcp-OPqJYq4S/lib/python3.9/site-packages/sklearn/metrics/_regression.py:492: FutureWarning: 'squared' is deprecated in version 1.4 and will be removed in 1.6. To calculate the root mean squared error, use the function'root_mean_squared_error'.\n",
      "  warnings.warn(\n",
      "\n"
     ]
    },
    {
     "name": "stdout",
     "output_type": "stream",
     "text": [
      "100%|██████████| 5/5 [10:19<00:00, 123.95s/trial, best loss: 5.073795325986875]"
     ]
    },
    {
     "name": "stderr",
     "output_type": "stream",
     "text": [
      "/Users/whysocurious/.local/share/virtualenvs/e2e-mlops-gcp-OPqJYq4S/lib/python3.9/site-packages/_distutils_hack/__init__.py:11: UserWarning: Distutils was imported before Setuptools, but importing Setuptools also replaces the `distutils` module in `sys.modules`. This may lead to undesirable behaviors or errors. To avoid these issues, avoid using distutils directly, ensure that setuptools is installed in the traditional way (e.g. not an editable install), and/or make sure that setuptools is always imported before distutils.\n",
      "  warnings.warn(\n",
      "\n",
      "/Users/whysocurious/.local/share/virtualenvs/e2e-mlops-gcp-OPqJYq4S/lib/python3.9/site-packages/_distutils_hack/__init__.py:26: UserWarning: Setuptools is replacing distutils.\n",
      "  warnings.warn(\"Setuptools is replacing distutils.\")\n",
      "\n"
     ]
    },
    {
     "name": "stdout",
     "output_type": "stream",
     "text": [
      "\n"
     ]
    }
   ],
   "source": [
    "try:\n",
    "    config = ConfigurationManager()\n",
    "    model_trainer_config = config.get_model_trainer_config()\n",
    "    model_trainer_config = ModelTrainer(config=model_trainer_config)\n",
    "    model_trainer_config.train()\n",
    "except Exception as e:\n",
    "    raise e\n"
   ]
  },
  {
   "cell_type": "code",
   "execution_count": null,
   "metadata": {},
   "outputs": [],
   "source": []
  }
 ],
 "metadata": {
  "kernelspec": {
   "display_name": "e2e-mlops-gcp-OPqJYq4S",
   "language": "python",
   "name": "python3"
  },
  "language_info": {
   "codemirror_mode": {
    "name": "ipython",
    "version": 3
   },
   "file_extension": ".py",
   "mimetype": "text/x-python",
   "name": "python",
   "nbconvert_exporter": "python",
   "pygments_lexer": "ipython3",
   "version": "3.9.6"
  }
 },
 "nbformat": 4,
 "nbformat_minor": 2
}
