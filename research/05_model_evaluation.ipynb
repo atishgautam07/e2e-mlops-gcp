{
 "cells": [
  {
   "cell_type": "code",
   "execution_count": 1,
   "metadata": {},
   "outputs": [
    {
     "data": {
      "text/plain": [
       "'/Users/whysocurious/Documents/MLDSAIProjects/e2e-mlops-gcp/research'"
      ]
     },
     "execution_count": 1,
     "metadata": {},
     "output_type": "execute_result"
    }
   ],
   "source": [
    "import os\n",
    "%pwd"
   ]
  },
  {
   "cell_type": "code",
   "execution_count": 2,
   "metadata": {},
   "outputs": [
    {
     "data": {
      "text/plain": [
       "'/Users/whysocurious/Documents/MLDSAIProjects/e2e-mlops-gcp'"
      ]
     },
     "execution_count": 2,
     "metadata": {},
     "output_type": "execute_result"
    }
   ],
   "source": [
    "os.chdir(\"../\")\n",
    "%pwd"
   ]
  },
  {
   "cell_type": "code",
   "execution_count": 3,
   "metadata": {},
   "outputs": [],
   "source": [
    "# os.environ[\"MLFLOW_TRACKING_URI\"]=\"https://dagshub.com/entbappy/End-to-end-Machine-Learning-Project-with-MLflow.mlflow\"\n",
    "# os.environ[\"MLFLOW_TRACKING_USERNAME\"]=\"entbappy\"\n",
    "# os.environ[\"MLFLOW_TRACKING_PASSWORD\"]=\"6824692c47a369aa6f9eac5b10041d5c8edbcef0\""
   ]
  },
  {
   "cell_type": "code",
   "execution_count": 4,
   "metadata": {},
   "outputs": [],
   "source": [
    "from dataclasses import dataclass\n",
    "from pathlib import Path\n",
    "\n",
    "\n",
    "@dataclass(frozen=True)\n",
    "class ModelEvaluationConfig:\n",
    "    root_dir: Path\n",
    "    pred_data_path: Path\n",
    "    model_path: Path\n",
    "    year: int\n",
    "    month: int"
   ]
  },
  {
   "cell_type": "code",
   "execution_count": 5,
   "metadata": {},
   "outputs": [],
   "source": [
    "from mlProject.constants import *\n",
    "from mlProject.utils.common import read_yaml, create_directories, save_json\n",
    "\n",
    "class ConfigurationManager:\n",
    "    def __init__(\n",
    "        self,\n",
    "        config_filepath = CONFIG_FILE_PATH,\n",
    "        params_filepath = PARAMS_FILE_PATH,\n",
    "        schema_filepath = SCHEMA_FILE_PATH):\n",
    "\n",
    "        self.config = read_yaml(config_filepath)\n",
    "        self.params = read_yaml(params_filepath)\n",
    "        self.schema = read_yaml(schema_filepath)\n",
    "\n",
    "        create_directories([self.config.artifacts_root])\n",
    "\n",
    "    \n",
    "    def get_model_evaluation_config(self) -> ModelEvaluationConfig:\n",
    "        config = self.config.model_evaluation\n",
    "        params = self.params.dataDetails\n",
    "\n",
    "        create_directories([config.root_dir])\n",
    "\n",
    "        model_evaluation_config = ModelEvaluationConfig(\n",
    "            root_dir=config.root_dir,\n",
    "            pred_data_path=config.pred_data_path,\n",
    "            model_path = config.model_path,\n",
    "            year=params.year,\n",
    "            month=params.month            \n",
    "        )\n",
    "\n",
    "        return model_evaluation_config"
   ]
  },
  {
   "cell_type": "code",
   "execution_count": 10,
   "metadata": {},
   "outputs": [],
   "source": [
    "import os\n",
    "import pandas as pd\n",
    "from sklearn.metrics import mean_squared_error, mean_absolute_error, r2_score\n",
    "import numpy as np\n",
    "import pickle\n",
    "from mlProject import logger\n",
    "\n",
    "class ModelEvaluation:\n",
    "    def __init__(self, config: ModelEvaluationConfig):\n",
    "        self.config = config\n",
    "\n",
    "    \n",
    "    def predict_data(self):\n",
    "        logger.info (f\"predicting using model from {self.config.model_path}\")\n",
    "        with open(self.config.model_path, 'rb') as f_in:\n",
    "            dv, model = pickle.load(f_in)\n",
    "\n",
    "        dftmp = pd.read_csv(self.config.pred_data_path)\n",
    "        categorical = ['PULocationID', 'DOLocationID']\n",
    "        dicts = dftmp[categorical].to_dict(orient='records')\n",
    "        X_val = dv.transform(dicts)\n",
    "        y_pred = model.predict(X_val)\n",
    "\n",
    "        prdStd = y_pred.std()\n",
    "        prdMean = y_pred.mean()\n",
    "        logger.info (f\"Standard deviation of preds - {prdStd}\")\n",
    "        logger.info (f\"Mean of preds - {prdMean}\")\n",
    "\n",
    "        logger.info (\"creating results dataframe...\")\n",
    "        df_res = pd.DataFrame({\n",
    "            'ride_id': dftmp['ride_id'],\n",
    "            'predicted_duration': y_pred\n",
    "        })\n",
    "\n",
    "        logger.info (f'writing results to - {self.config.root_dir}')\n",
    "        df_res.to_parquet(\n",
    "            self.config.root_dir + f'/yellow_{self.config.year:04d}-{self.config.month:02d}.parquet',\n",
    "            engine='pyarrow',\n",
    "            compression=None,\n",
    "            index=False\n",
    "        )\n",
    "        sz = os.path.getsize(self.config.root_dir) / (1024*1024)\n",
    "        logger.info(f'df_results file-size - {sz}')\n",
    "        logger.info(\"Results file written.\")"
   ]
  },
  {
   "cell_type": "code",
   "execution_count": 11,
   "metadata": {},
   "outputs": [
    {
     "name": "stdout",
     "output_type": "stream",
     "text": [
      "[2024-07-02 13:43:41,642: INFO: common: yaml file: config/config.yaml loaded successfully]\n",
      "[2024-07-02 13:43:41,644: INFO: common: yaml file: params.yaml loaded successfully]\n",
      "[2024-07-02 13:43:41,645: INFO: common: yaml file: schema.yaml loaded successfully]\n",
      "[2024-07-02 13:43:41,647: INFO: common: created directory at: artifacts]\n",
      "[2024-07-02 13:43:41,648: INFO: common: created directory at: artifacts/model_evaluation]\n",
      "[2024-07-02 13:43:41,649: INFO: 2447913764: predicting using model from research/model.bin]\n"
     ]
    },
    {
     "name": "stderr",
     "output_type": "stream",
     "text": [
      "/var/folders/8x/4tbqnfzd0tz4gn4chf6rr2ch0000gp/T/ipykernel_68142/2447913764.py:18: DtypeWarning: Columns (6) have mixed types. Specify dtype option on import or set low_memory=False.\n",
      "  dftmp = pd.read_csv(self.config.pred_data_path)\n"
     ]
    },
    {
     "name": "stdout",
     "output_type": "stream",
     "text": [
      "[2024-07-02 13:43:49,916: INFO: 2447913764: Standard deviation of preds - 6.750155989720952e-14]\n",
      "[2024-07-02 13:43:49,918: INFO: 2447913764: Mean of preds - 23.19714924577499]\n",
      "[2024-07-02 13:43:49,918: INFO: 2447913764: creating results dataframe...]\n",
      "[2024-07-02 13:43:49,974: INFO: 2447913764: writing results to - artifacts/model_evaluation]\n",
      "[2024-07-02 13:43:50,252: INFO: 2447913764: df_results file-size - 9.1552734375e-05]\n",
      "[2024-07-02 13:43:50,252: INFO: 2447913764: Results file written.]\n"
     ]
    }
   ],
   "source": [
    "try:\n",
    "    config = ConfigurationManager()\n",
    "    model_evaluation_config = config.get_model_evaluation_config()\n",
    "    model_evaluation_config = ModelEvaluation(config=model_evaluation_config)\n",
    "    model_evaluation_config.predict_data()\n",
    "except Exception as e:\n",
    "    raise e"
   ]
  },
  {
   "cell_type": "code",
   "execution_count": null,
   "metadata": {},
   "outputs": [],
   "source": []
  }
 ],
 "metadata": {
  "kernelspec": {
   "display_name": "e2emlops",
   "language": "python",
   "name": "python3"
  },
  "language_info": {
   "codemirror_mode": {
    "name": "ipython",
    "version": 3
   },
   "file_extension": ".py",
   "mimetype": "text/x-python",
   "name": "python",
   "nbconvert_exporter": "python",
   "pygments_lexer": "ipython3",
   "version": "3.11.9"
  }
 },
 "nbformat": 4,
 "nbformat_minor": 2
}
