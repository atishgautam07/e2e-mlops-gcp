{
 "cells": [
  {
   "cell_type": "code",
   "execution_count": 1,
   "metadata": {},
   "outputs": [
    {
     "data": {
      "text/plain": [
       "'/Users/whysocurious/Documents/MLDSAIProjects/e2e-mlops-gcp/research'"
      ]
     },
     "execution_count": 1,
     "metadata": {},
     "output_type": "execute_result"
    }
   ],
   "source": [
    "import os\n",
    "%pwd"
   ]
  },
  {
   "cell_type": "code",
   "execution_count": 2,
   "metadata": {},
   "outputs": [
    {
     "data": {
      "text/plain": [
       "'/Users/whysocurious/Documents/MLDSAIProjects/e2e-mlops-gcp'"
      ]
     },
     "execution_count": 2,
     "metadata": {},
     "output_type": "execute_result"
    }
   ],
   "source": [
    "os.chdir(\"../\")\n",
    "%pwd"
   ]
  },
  {
   "cell_type": "code",
   "execution_count": 3,
   "metadata": {},
   "outputs": [],
   "source": [
    "from dataclasses import dataclass\n",
    "from pathlib import Path\n",
    "\n",
    "\n",
    "@dataclass(frozen=True)\n",
    "class DataIngestionConfig:\n",
    "    color: str\n",
    "    year_train: int\n",
    "    month_train: int\n",
    "    year_val: int\n",
    "    month_val: int\n",
    "    year_test: int\n",
    "    month_test: int\n",
    "    root_dir: Path\n",
    "    source_URL: str"
   ]
  },
  {
   "cell_type": "code",
   "execution_count": 4,
   "metadata": {},
   "outputs": [],
   "source": [
    "from mlProject.constants import *\n",
    "from mlProject.utils.common import read_yaml, create_directories\n",
    "\n",
    "\n",
    "class ConfigurationManager:\n",
    "    def __init__(\n",
    "        self,\n",
    "        config_filepath = CONFIG_FILE_PATH,\n",
    "        params_filepath = PARAMS_FILE_PATH,\n",
    "        schema_filepath = SCHEMA_FILE_PATH):\n",
    "\n",
    "        self.config = read_yaml(config_filepath)\n",
    "        self.params = read_yaml(params_filepath)\n",
    "        self.schema = read_yaml(schema_filepath)\n",
    "\n",
    "        create_directories([self.config.artifacts_root])\n",
    "\n",
    "\n",
    "    \n",
    "    def get_data_ingestion_config(self) -> DataIngestionConfig:\n",
    "        config = self.config.data_ingestion\n",
    "        params = self.params.dataDetails\n",
    "\n",
    "        create_directories([config.root_dir])\n",
    "\n",
    "        data_ingestion_config = DataIngestionConfig(\n",
    "            color=params.color,\n",
    "            year_train=params.year_train,\n",
    "            month_train=params.month_train,\n",
    "            year_val=params.year_val,\n",
    "            month_val=params.month_val,\n",
    "            year_test=params.year_test,\n",
    "            month_test=params.month_test,\n",
    "            \n",
    "            root_dir=config.root_dir,\n",
    "            source_URL=config.source_URL,\n",
    "        )\n",
    "\n",
    "        return data_ingestion_config"
   ]
  },
  {
   "cell_type": "code",
   "execution_count": 5,
   "metadata": {},
   "outputs": [],
   "source": [
    "import os\n",
    "from mlProject import logger\n",
    "from mlProject.utils.common import get_size\n",
    "import pandas as pd\n",
    "\n",
    "class DataIngestion:\n",
    "    def __init__(self, config: DataIngestionConfig):\n",
    "        self.config = config\n",
    "    \n",
    "    def download_file(self):\n",
    "\n",
    "        filename_train = f'{self.config.color}_tripdata_{self.config.year_train:04d}-{self.config.month_train:02d}.parquet'\n",
    "        pd.read_parquet(self.config.source_URL + filename_train).to_parquet(self.config.root_dir + \"/\" + filename_train)\n",
    "        logger.info(f\"{filename_train} download! \\n\")\n",
    "\n",
    "        filename_val = f'{self.config.color}_tripdata_{self.config.year_val:04d}-{self.config.month_val:02d}.parquet'\n",
    "        pd.read_parquet(self.config.source_URL + filename_val).to_parquet(self.config.root_dir + \"/\" + filename_val)\n",
    "        logger.info(f\"{filename_val} download! \\n\")\n",
    "\n",
    "        filename_test = f'{self.config.color}_tripdata_{self.config.year_test:04d}-{self.config.month_test:02d}.parquet'\n",
    "        pd.read_parquet(self.config.source_URL + filename_test).to_parquet(self.config.root_dir + \"/\" + filename_test)\n",
    "        logger.info(f\"{filename_test} download! \\n\")\n"
   ]
  },
  {
   "cell_type": "code",
   "execution_count": 6,
   "metadata": {},
   "outputs": [
    {
     "name": "stdout",
     "output_type": "stream",
     "text": [
      "[2024-07-04 10:55:46,248: INFO: common: yaml file: config/config.yaml loaded successfully]\n",
      "[2024-07-04 10:55:46,250: INFO: common: yaml file: params.yaml loaded successfully]\n",
      "[2024-07-04 10:55:46,251: INFO: common: yaml file: schema.yaml loaded successfully]\n",
      "[2024-07-04 10:55:46,252: INFO: common: created directory at: artifacts]\n",
      "[2024-07-04 10:55:46,252: INFO: common: created directory at: artifacts/data_ingestion]\n",
      "[2024-07-04 10:56:11,990: INFO: 3409143912: yellow_tripdata_2023-01.parquet download! \n",
      "]\n",
      "[2024-07-04 10:56:39,984: INFO: 3409143912: yellow_tripdata_2023-02.parquet download! \n",
      "]\n",
      "[2024-07-04 10:57:06,419: INFO: 3409143912: yellow_tripdata_2023-03.parquet download! \n",
      "]\n"
     ]
    }
   ],
   "source": [
    "try:\n",
    "    config = ConfigurationManager()\n",
    "    data_ingestion_config = config.get_data_ingestion_config()\n",
    "    data_ingestion = DataIngestion(config=data_ingestion_config)\n",
    "    data_ingestion.download_file()\n",
    "    # data_ingestion.extract_zip_file()\n",
    "except Exception as e:\n",
    "    raise e"
   ]
  },
  {
   "cell_type": "code",
   "execution_count": null,
   "metadata": {},
   "outputs": [],
   "source": []
  }
 ],
 "metadata": {
  "kernelspec": {
   "display_name": "e2emlops",
   "language": "python",
   "name": "python3"
  },
  "language_info": {
   "codemirror_mode": {
    "name": "ipython",
    "version": 3
   },
   "file_extension": ".py",
   "mimetype": "text/x-python",
   "name": "python",
   "nbconvert_exporter": "python",
   "pygments_lexer": "ipython3",
   "version": "3.9.6"
  }
 },
 "nbformat": 4,
 "nbformat_minor": 2
}
