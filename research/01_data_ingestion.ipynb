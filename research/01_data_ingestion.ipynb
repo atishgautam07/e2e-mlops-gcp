{
 "cells": [
  {
   "cell_type": "code",
   "execution_count": 1,
   "metadata": {},
   "outputs": [
    {
     "data": {
      "text/plain": [
       "'/Users/whysocurious/Documents/MLDSAIProjects/e2e-mlops-gcp/research'"
      ]
     },
     "execution_count": 1,
     "metadata": {},
     "output_type": "execute_result"
    }
   ],
   "source": [
    "import os\n",
    "%pwd"
   ]
  },
  {
   "cell_type": "code",
   "execution_count": 2,
   "metadata": {},
   "outputs": [
    {
     "data": {
      "text/plain": [
       "'/Users/whysocurious/Documents/MLDSAIProjects/e2e-mlops-gcp'"
      ]
     },
     "execution_count": 2,
     "metadata": {},
     "output_type": "execute_result"
    }
   ],
   "source": [
    "os.chdir(\"../\")\n",
    "%pwd"
   ]
  },
  {
   "cell_type": "code",
   "execution_count": 3,
   "metadata": {},
   "outputs": [],
   "source": [
    "from dataclasses import dataclass\n",
    "from pathlib import Path\n",
    "\n",
    "\n",
    "@dataclass(frozen=True)\n",
    "class DataIngestionConfig:\n",
    "    color: str\n",
    "    year: int\n",
    "    month: int\n",
    "    root_dir: Path\n",
    "    source_URL: str\n",
    "    local_data: Path\n",
    "    local_data_file: Path"
   ]
  },
  {
   "cell_type": "code",
   "execution_count": 4,
   "metadata": {},
   "outputs": [],
   "source": [
    "from mlProject.constants import *\n",
    "from mlProject.utils.common import read_yaml, create_directories\n"
   ]
  },
  {
   "cell_type": "code",
   "execution_count": 5,
   "metadata": {},
   "outputs": [],
   "source": [
    "class ConfigurationManager:\n",
    "    def __init__(\n",
    "        self,\n",
    "        config_filepath = CONFIG_FILE_PATH,\n",
    "        params_filepath = PARAMS_FILE_PATH,\n",
    "        schema_filepath = SCHEMA_FILE_PATH):\n",
    "\n",
    "        self.config = read_yaml(config_filepath)\n",
    "        self.params = read_yaml(params_filepath)\n",
    "        self.schema = read_yaml(schema_filepath)\n",
    "\n",
    "        create_directories([self.config.artifacts_root])\n",
    "\n",
    "\n",
    "    \n",
    "    def get_data_ingestion_config(self) -> DataIngestionConfig:\n",
    "        config = self.config.data_ingestion\n",
    "        params = self.params.dataDetails\n",
    "\n",
    "        create_directories([config.root_dir])\n",
    "\n",
    "        data_ingestion_config = DataIngestionConfig(\n",
    "            color=params.color,\n",
    "            year=params.year,\n",
    "            month=params.month,\n",
    "            root_dir=config.root_dir,\n",
    "            source_URL=config.source_URL + f'{params.color}_tripdata_{params.year:04d}-{params.month:02d}.parquet',\n",
    "            local_data=config.local_data,\n",
    "            local_data_file=config.local_data_file + f'{params.color}_tripdata_{params.year:04d}-{params.month:02d}.parquet'\n",
    "        )\n",
    "\n",
    "        return data_ingestion_config"
   ]
  },
  {
   "cell_type": "code",
   "execution_count": 6,
   "metadata": {},
   "outputs": [],
   "source": [
    "import os\n",
    "from mlProject import logger\n",
    "from mlProject.utils.common import get_size\n",
    "import pandas as pd"
   ]
  },
  {
   "cell_type": "code",
   "execution_count": 7,
   "metadata": {},
   "outputs": [],
   "source": [
    "class DataIngestion:\n",
    "    def __init__(self, config: DataIngestionConfig):\n",
    "        self.config = config\n",
    "\n",
    "\n",
    "    \n",
    "    def download_file(self):\n",
    "        if not os.path.exists(self.config.local_data_file):\n",
    "            # filename, headers = request.urlretrieve(\n",
    "            #     url = self.config.source_URL,\n",
    "            #     filename = self.config.local_data_file\n",
    "            # )\n",
    "            filename = self.config.local_data_file\n",
    "            pd.read_parquet(self.config.source_URL).to_parquet(filename)\n",
    "            logger.info(f\"{filename} download! \\n\")\n",
    "        else:\n",
    "            logger.info(f\"File already exists of size: {get_size(Path(self.config.local_data_file))}\")\n",
    "\n",
    "\n",
    "\n",
    "    # def extract_zip_file(self):\n",
    "    #     \"\"\"\n",
    "    #     zip_file_path: str\n",
    "    #     Extracts the zip file into the data directory\n",
    "    #     Function returns None\n",
    "    #     \"\"\"\n",
    "    #     unzip_path = self.config.unzip_dir\n",
    "    #     os.makedirs(unzip_path, exist_ok=True)\n",
    "    #     with zipfile.ZipFile(self.config.local_data_file, 'r') as zip_ref:\n",
    "    #         zip_ref.extractall(unzip_path)\n",
    "  "
   ]
  },
  {
   "cell_type": "code",
   "execution_count": 8,
   "metadata": {},
   "outputs": [
    {
     "name": "stdout",
     "output_type": "stream",
     "text": [
      "[2024-06-30 13:22:15,254: INFO: common: yaml file: config/config.yaml loaded successfully]\n",
      "[2024-06-30 13:22:15,257: INFO: common: yaml file: params.yaml loaded successfully]\n",
      "[2024-06-30 13:22:15,258: INFO: common: yaml file: schema.yaml loaded successfully]\n",
      "[2024-06-30 13:22:15,259: INFO: common: created directory at: artifacts]\n",
      "[2024-06-30 13:22:15,260: INFO: common: created directory at: artifacts/data_ingestion]\n",
      "[2024-06-30 13:22:41,715: INFO: 340874643: artifacts/data_ingestion/yellow_tripdata_2023-03.parquet download! \n",
      "]\n"
     ]
    }
   ],
   "source": [
    "try:\n",
    "    config = ConfigurationManager()\n",
    "    data_ingestion_config = config.get_data_ingestion_config()\n",
    "    data_ingestion = DataIngestion(config=data_ingestion_config)\n",
    "    data_ingestion.download_file()\n",
    "    # data_ingestion.extract_zip_file()\n",
    "except Exception as e:\n",
    "    raise e"
   ]
  },
  {
   "cell_type": "code",
   "execution_count": null,
   "metadata": {},
   "outputs": [],
   "source": []
  }
 ],
 "metadata": {
  "kernelspec": {
   "display_name": "e2emlops",
   "language": "python",
   "name": "python3"
  },
  "language_info": {
   "codemirror_mode": {
    "name": "ipython",
    "version": 3
   },
   "file_extension": ".py",
   "mimetype": "text/x-python",
   "name": "python",
   "nbconvert_exporter": "python",
   "pygments_lexer": "ipython3",
   "version": "3.11.9"
  }
 },
 "nbformat": 4,
 "nbformat_minor": 2
}
