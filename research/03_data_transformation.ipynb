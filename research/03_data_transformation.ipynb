{
 "cells": [
  {
   "cell_type": "code",
   "execution_count": 1,
   "metadata": {},
   "outputs": [
    {
     "data": {
      "text/plain": [
       "'/Users/whysocurious/Documents/MLDSAIProjects/e2e-mlops-gcp/research'"
      ]
     },
     "execution_count": 1,
     "metadata": {},
     "output_type": "execute_result"
    }
   ],
   "source": [
    "import os\n",
    "%pwd"
   ]
  },
  {
   "cell_type": "code",
   "execution_count": 2,
   "metadata": {},
   "outputs": [
    {
     "data": {
      "text/plain": [
       "'/Users/whysocurious/Documents/MLDSAIProjects/e2e-mlops-gcp'"
      ]
     },
     "execution_count": 2,
     "metadata": {},
     "output_type": "execute_result"
    }
   ],
   "source": [
    "os.chdir(\"../\")\n",
    "%pwd"
   ]
  },
  {
   "cell_type": "code",
   "execution_count": 3,
   "metadata": {},
   "outputs": [],
   "source": [
    "from dataclasses import dataclass\n",
    "from pathlib import Path\n",
    "\n",
    "\n",
    "@dataclass(frozen=True)\n",
    "class DataTransformationConfig:\n",
    "    year: int\n",
    "    month: int\n",
    "    root_dir: Path\n",
    "    data_path: Path"
   ]
  },
  {
   "cell_type": "code",
   "execution_count": 4,
   "metadata": {},
   "outputs": [],
   "source": [
    "from mlProject.constants import *\n",
    "from mlProject.utils.common import read_yaml, create_directories"
   ]
  },
  {
   "cell_type": "code",
   "execution_count": 5,
   "metadata": {},
   "outputs": [],
   "source": [
    "class ConfigurationManager:\n",
    "    def __init__(\n",
    "        self,\n",
    "        config_filepath = CONFIG_FILE_PATH,\n",
    "        params_filepath = PARAMS_FILE_PATH,\n",
    "        schema_filepath = SCHEMA_FILE_PATH):\n",
    "\n",
    "        self.config = read_yaml(config_filepath)\n",
    "        self.params = read_yaml(params_filepath)\n",
    "        self.schema = read_yaml(schema_filepath)\n",
    "\n",
    "        create_directories([self.config.artifacts_root])\n",
    "\n",
    "\n",
    "    \n",
    "    def get_data_transformation_config(self) -> DataTransformationConfig:\n",
    "        config = self.config.data_transformation\n",
    "        params = self.params.dataDetails\n",
    "\n",
    "        create_directories([config.root_dir])\n",
    "\n",
    "        data_transformation_config = DataTransformationConfig(\n",
    "            year=params.year,\n",
    "            month=params.month,\n",
    "            root_dir=config.root_dir,\n",
    "            data_path=config.data_path,\n",
    "        )\n",
    "\n",
    "        return data_transformation_config"
   ]
  },
  {
   "cell_type": "code",
   "execution_count": 6,
   "metadata": {},
   "outputs": [],
   "source": [
    "import os\n",
    "from mlProject import logger\n",
    "import pandas as pd"
   ]
  },
  {
   "cell_type": "code",
   "execution_count": 7,
   "metadata": {},
   "outputs": [],
   "source": [
    "class DataTransformation:\n",
    "    def __init__(self, config: DataTransformationConfig):\n",
    "        self.config = config\n",
    "\n",
    "    \n",
    "    ## Note: You can add different data transformation techniques such as Scaler, PCA and all\n",
    "    #You can perform all kinds of EDA in ML cycle here before passing this data to the model\n",
    "\n",
    "    # I am only adding train_test_spliting cz this data is already cleaned up\n",
    "\n",
    "    def process_data(self):\n",
    "        logger.info(f'reading file - {self.config.data_path}')\n",
    "        df = pd.read_parquet(self.config.data_path)\n",
    "        \n",
    "        categorical = ['PULocationID', 'DOLocationID']\n",
    "        df['duration'] = df.tpep_dropoff_datetime - df.tpep_pickup_datetime\n",
    "        df['duration'] = df.duration.dt.total_seconds() / 60\n",
    "\n",
    "        df = df[(df.duration >= 1) & (df.duration <= 60)].copy()\n",
    "\n",
    "        df[categorical] = df[categorical].fillna(-1).astype('int').astype('str')\n",
    "        df['ride_id'] = f'{self.config.year:04d}/{self.config.month:02d}_' + df.index.astype('str')\n",
    "\n",
    "        df.to_csv(os.path.join(self.config.root_dir, \"predSet.csv\"),index = False)\n",
    "        logger.info(\"Data transformation completed\")\n",
    "        logger.info(df.shape)\n",
    "        \n",
    "        return df"
   ]
  },
  {
   "cell_type": "code",
   "execution_count": 8,
   "metadata": {},
   "outputs": [
    {
     "name": "stdout",
     "output_type": "stream",
     "text": [
      "[2024-07-01 06:41:07,987: INFO: common: yaml file: config/config.yaml loaded successfully]\n",
      "[2024-07-01 06:41:07,989: INFO: common: yaml file: params.yaml loaded successfully]\n",
      "[2024-07-01 06:41:07,991: INFO: common: yaml file: schema.yaml loaded successfully]\n",
      "[2024-07-01 06:41:07,992: INFO: common: created directory at: artifacts]\n",
      "[2024-07-01 06:41:07,993: INFO: common: created directory at: artifacts/data_transformation]\n",
      "[2024-07-01 06:41:07,993: INFO: 1204532097: reading file - artifacts/data_ingestion/yellow_tripdata_2023-03.parquet]\n",
      "[2024-07-01 06:41:47,605: INFO: 1204532097: Data transformation completed]\n",
      "[2024-07-01 06:41:47,608: INFO: 1204532097: (3316216, 21)]\n"
     ]
    }
   ],
   "source": [
    "try:\n",
    "    config = ConfigurationManager()\n",
    "    data_transformation_config = config.get_data_transformation_config()\n",
    "    data_transformation = DataTransformation(config=data_transformation_config)\n",
    "    data_transformation.process_data()\n",
    "except Exception as e:\n",
    "    raise e"
   ]
  },
  {
   "cell_type": "code",
   "execution_count": null,
   "metadata": {},
   "outputs": [],
   "source": []
  }
 ],
 "metadata": {
  "kernelspec": {
   "display_name": "e2emlops",
   "language": "python",
   "name": "python3"
  },
  "language_info": {
   "codemirror_mode": {
    "name": "ipython",
    "version": 3
   },
   "file_extension": ".py",
   "mimetype": "text/x-python",
   "name": "python",
   "nbconvert_exporter": "python",
   "pygments_lexer": "ipython3",
   "version": "3.11.9"
  }
 },
 "nbformat": 4,
 "nbformat_minor": 2
}
