{
 "cells": [
  {
   "cell_type": "code",
   "execution_count": 1,
   "metadata": {},
   "outputs": [
    {
     "data": {
      "text/plain": [
       "'/Users/whysocurious/Documents/MLDSAIProjects/e2e-mlops-gcp/research'"
      ]
     },
     "execution_count": 1,
     "metadata": {},
     "output_type": "execute_result"
    }
   ],
   "source": [
    "import os\n",
    "%pwd"
   ]
  },
  {
   "cell_type": "code",
   "execution_count": 2,
   "metadata": {},
   "outputs": [
    {
     "data": {
      "text/plain": [
       "'/Users/whysocurious/Documents/MLDSAIProjects/e2e-mlops-gcp'"
      ]
     },
     "execution_count": 2,
     "metadata": {},
     "output_type": "execute_result"
    }
   ],
   "source": [
    "os.chdir(\"../\")\n",
    "%pwd"
   ]
  },
  {
   "cell_type": "code",
   "execution_count": 3,
   "metadata": {},
   "outputs": [],
   "source": [
    "from dataclasses import dataclass\n",
    "from pathlib import Path\n",
    "\n",
    "\n",
    "@dataclass(frozen=True)\n",
    "class DataTransformationConfig:\n",
    "    color: str\n",
    "    year_train: int\n",
    "    month_train: int\n",
    "    year_val: int\n",
    "    month_val: int\n",
    "    year_test: int\n",
    "    month_test: int\n",
    "    root_dir: Path\n",
    "    data_path: Path"
   ]
  },
  {
   "cell_type": "code",
   "execution_count": 4,
   "metadata": {},
   "outputs": [],
   "source": [
    "from mlProject.constants import *\n",
    "from mlProject.utils.common import read_yaml, create_directories"
   ]
  },
  {
   "cell_type": "code",
   "execution_count": 5,
   "metadata": {},
   "outputs": [],
   "source": [
    "class ConfigurationManager:\n",
    "    def __init__(\n",
    "        self,\n",
    "        config_filepath = CONFIG_FILE_PATH,\n",
    "        params_filepath = PARAMS_FILE_PATH,\n",
    "        schema_filepath = SCHEMA_FILE_PATH):\n",
    "\n",
    "        self.config = read_yaml(config_filepath)\n",
    "        self.params = read_yaml(params_filepath)\n",
    "        self.schema = read_yaml(schema_filepath)\n",
    "\n",
    "        create_directories([self.config.artifacts_root])\n",
    "\n",
    "\n",
    "    \n",
    "    def get_data_transformation_config(self) -> DataTransformationConfig:\n",
    "        config = self.config.data_transformation\n",
    "        params = self.params.dataDetails\n",
    "\n",
    "        create_directories([config.root_dir])\n",
    "\n",
    "        data_transformation_config = DataTransformationConfig(\n",
    "            color=params.color,\n",
    "            year_train=params.year_train,\n",
    "            month_train=params.month_train,\n",
    "            year_val=params.year_val,\n",
    "            month_val=params.month_val,\n",
    "            year_test=params.year_test,\n",
    "            month_test=params.month_test,\n",
    "            \n",
    "            root_dir=config.root_dir,\n",
    "            data_path=config.data_path,\n",
    "        )\n",
    "\n",
    "        return data_transformation_config"
   ]
  },
  {
   "cell_type": "code",
   "execution_count": 6,
   "metadata": {},
   "outputs": [],
   "source": [
    "import os\n",
    "from mlProject import logger\n",
    "import pickle\n",
    "import pandas as pd\n",
    "\n",
    "\n",
    "class DataTransformation:\n",
    "    def __init__(self, config: DataTransformationConfig):\n",
    "        self.config = config\n",
    "\n",
    "    \n",
    "    \n",
    "    def dump_pickle(self, obj, filename: str):\n",
    "        with open(filename, \"wb\") as f_out:\n",
    "            return pickle.dump(obj, f_out)\n",
    "\n",
    "\n",
    "    def read_dataframe(self, filename: str):\n",
    "        df = pd.read_parquet(filename)\n",
    "\n",
    "        df['duration'] = df['tpep_dropoff_datetime'] - df['tpep_pickup_datetime']\n",
    "        df.duration = df.duration.apply(lambda td: td.total_seconds() / 60)\n",
    "        df = df[(df.duration >= 1) & (df.duration <= 60)]\n",
    "\n",
    "        categorical = ['PULocationID', 'DOLocationID']\n",
    "        df[categorical] = df[categorical].fillna(-1).astype('int').astype('str')\n",
    "        df['ride_id'] = f'{self.config.year_train:04d}/{self.config.month_train:02d}_' + df.index.astype('str')\n",
    "\n",
    "        return df\n",
    "\n",
    "\n",
    "    def preprocess(self, df: pd.DataFrame,):  # dv: DictVectorizer, fit_dv: bool = False):\n",
    "        df['PU_DO'] = df['PULocationID'] + '_' + df['DOLocationID']\n",
    "        categorical = ['PU_DO']\n",
    "        numerical = ['trip_distance']\n",
    "        dicts = df[categorical + numerical].to_dict(orient='records')\n",
    "        # if fit_dv:\n",
    "        #     X = dv.fit_transform(dicts)\n",
    "        # else:\n",
    "        #     X = dv.transform(dicts)\n",
    "        return dicts\n",
    "\n",
    "    def process_data(self):\n",
    "        logger.info(f'reading file - {self.config.data_path}')\n",
    "        df_train = self.read_dataframe(\n",
    "        os.path.join(self.config.data_path, f'{self.config.color}_tripdata_{self.config.year_train:04d}-{self.config.month_train:02d}.parquet')\n",
    "        )\n",
    "        df_val = self.read_dataframe(\n",
    "            os.path.join(self.config.data_path, f'{self.config.color}_tripdata_{self.config.year_val:04d}-{self.config.month_val:02d}.parquet')\n",
    "        )\n",
    "        df_test = self.read_dataframe(\n",
    "            os.path.join(self.config.data_path, f'{self.config.color}_tripdata_{self.config.year_test:04d}-{self.config.month_test:02d}.parquet')\n",
    "        )\n",
    "\n",
    "        # Extract the target\n",
    "        target = 'duration'\n",
    "        y_train = df_train[target].values\n",
    "        y_val = df_val[target].values\n",
    "        y_test = df_test[target].values\n",
    "\n",
    "        # Fit the DictVectorizer and preprocess data\n",
    "        # dv = DictVectorizer()\n",
    "\n",
    "        # Preprocess data\n",
    "        logger.info(\"preprocess data.\")\n",
    "        X_train = self.preprocess(df_train) #, dv, fit_dv=True)\n",
    "        X_val = self.preprocess(df_val) #, dv, fit_dv=False)\n",
    "        X_test = self.preprocess(df_test) #, dv, fit_dv=False)\n",
    "\n",
    "        # Save DictVectorizer and datasets\n",
    "        # self.dump_pickle(dv, os.path.join(self.config.root_dir, \"dv.pkl\"))\n",
    "        self.dump_pickle((X_train, y_train), os.path.join(self.config.root_dir, \"train.pkl\"))\n",
    "        self.dump_pickle((X_val, y_val), os.path.join(self.config.root_dir, \"val.pkl\"))\n",
    "        self.dump_pickle((X_test, y_test), os.path.join(self.config.root_dir, \"test.pkl\"))\n",
    "\n",
    "        \n",
    "        logger.info(\"Data transformation completed\")\n"
   ]
  },
  {
   "cell_type": "code",
   "execution_count": 7,
   "metadata": {},
   "outputs": [
    {
     "name": "stdout",
     "output_type": "stream",
     "text": [
      "[2024-07-05 12:38:18,823: INFO: common: yaml file: config/config.yaml loaded successfully]\n",
      "[2024-07-05 12:38:18,825: INFO: common: yaml file: params.yaml loaded successfully]\n",
      "[2024-07-05 12:38:18,826: INFO: common: yaml file: schema.yaml loaded successfully]\n",
      "[2024-07-05 12:38:18,827: INFO: common: created directory at: artifacts]\n",
      "[2024-07-05 12:38:18,828: INFO: common: created directory at: artifacts/data_transformation]\n",
      "[2024-07-05 12:38:18,829: INFO: 4052946182: reading file - artifacts/data_ingestion]\n",
      "[2024-07-05 12:38:41,010: INFO: 4052946182: preprocess data.]\n",
      "[2024-07-05 12:39:01,081: INFO: 4052946182: Data transformation completed]\n"
     ]
    }
   ],
   "source": [
    "try:\n",
    "    config = ConfigurationManager()\n",
    "    data_transformation_config = config.get_data_transformation_config()\n",
    "    data_transformation = DataTransformation(config=data_transformation_config)\n",
    "    data_transformation.process_data()\n",
    "except Exception as e:\n",
    "    raise e"
   ]
  },
  {
   "cell_type": "code",
   "execution_count": null,
   "metadata": {},
   "outputs": [],
   "source": []
  }
 ],
 "metadata": {
  "kernelspec": {
   "display_name": "e2emlops",
   "language": "python",
   "name": "python3"
  },
  "language_info": {
   "codemirror_mode": {
    "name": "ipython",
    "version": 3
   },
   "file_extension": ".py",
   "mimetype": "text/x-python",
   "name": "python",
   "nbconvert_exporter": "python",
   "pygments_lexer": "ipython3",
   "version": "3.9.6"
  }
 },
 "nbformat": 4,
 "nbformat_minor": 2
}
